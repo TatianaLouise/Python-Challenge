{
 "cells": [
  {
   "cell_type": "code",
   "execution_count": 1,
   "metadata": {},
   "outputs": [],
   "source": [
    "# Import os to create file paths across operating systems\n",
    "\n",
    "import os\n",
    "\n",
    "import csv"
   ]
  },
  {
   "cell_type": "code",
   "execution_count": 2,
   "metadata": {},
   "outputs": [
    {
     "data": {
      "text/plain": [
       "'Resources/election_data.csv'"
      ]
     },
     "execution_count": 2,
     "metadata": {},
     "output_type": "execute_result"
    }
   ],
   "source": [
    "election_csv = os.path.join(\"Resources\", \"election_data.csv\")\n",
    "\n",
    "election_csv"
   ]
  },
  {
   "cell_type": "code",
   "execution_count": 3,
   "metadata": {},
   "outputs": [],
   "source": [
    "# Import and read into election_csv\n",
    "\n",
    "with open(election_csv) as csvfile:\n",
    "    election_reader = csv.reader(csvfile, delimiter = \",\")\n",
    "    \n",
    "\n",
    "# Use next(csv_reader, None) to skip the header row\n",
    "\n",
    "    next(election_reader, None)\n",
    "\n"
   ]
  },
  {
   "cell_type": "code",
   "execution_count": 4,
   "metadata": {},
   "outputs": [],
   "source": [
    "# Define the function and have it accept the 'election_results' as it's sole parameter\n",
    "# Assign values to variables\n",
    "\n",
    "def print_election_results(election_results):\n",
    "    \n",
    "#Create lists to store ballots, candidate names, votes per candidate\n",
    "# Initialize vote count\n",
    "\n",
    "    votes_per_candidate = [0,0,0]\n",
    "\n",
    "    candidate_list = []\n",
    "\n",
    "    vote_percentages = []\n",
    "\n",
    "    print_results = []\n",
    "\n",
    "    total_votes = 0\n",
    "\n",
    "    # Add the candidates to the candidate_list\n",
    "\n",
    "\n",
    "    for row in election_results:\n",
    "        # Create a complete list of candidates who received votes\n",
    "        # If the name does not exist in the candidate list, add the name in current row\n",
    "\n",
    "        candidate_name = row[2]\n",
    "        if candidate_name not in candidate_list:\n",
    "            candidate_list.append(candidate_name)\n",
    "       \n",
    "       #Find the candidate position in the list        \n",
    "        candidate_position = candidate_list.index(candidate_name)\n",
    "        \n",
    "       # Increment number of votes for the candidate by 1 to find the total number of votes per candidate\n",
    "        votes_per_candidate[candidate_position] += 1\n",
    "      \n",
    "        # Retrieve the total number of votes and add to list\n",
    "\n",
    "        total_votes += 1\n",
    "\n",
    "    # The percentage of votes each candidate won\n",
    "    for votes in votes_per_candidate:\n",
    "\n",
    "        percent_per_candidate = round(((votes / total_votes) *100), 3)\n",
    "        vote_percentages.append(percent_per_candidate)\n",
    "\n",
    "    # Find the index of the max votes_per candidate in order to find the winner\n",
    "    winner_position = vote_percentages.index(max(vote_percentages))\n",
    "    winner = candidate_list[winner_position]\n",
    "\n",
    "\n",
    "    # The winner of the election based on popular vote\n",
    "\n",
    "    print_results.append(\"Election results\")\n",
    "\n",
    "    print_results.append(\"---------------\")\n",
    "\n",
    "    print_results.append(\"Total Votes: \" + str(total_votes))\n",
    "\n",
    "    print_results.append(\"---------------\")\n",
    "\n",
    "    for i, candidate in enumerate(candidate_list):\n",
    "\n",
    "        print_results.append(candidate + \": \" + \" %\"  + str(vote_percentages[i]) + \" (\" +  str(votes_per_candidate[i]) + \") \")\n",
    "    \n",
    "    print_results.append(\"--------------\")\n",
    "    \n",
    "    print_results.append(\"Winner: \"  + winner)\n",
    "\n",
    "    print_results.append(\"--------------\")\n",
    "\n",
    "    return print_results\n"
   ]
  },
  {
   "cell_type": "code",
   "execution_count": 12,
   "metadata": {},
   "outputs": [
    {
     "name": "stdout",
     "output_type": "stream",
     "text": [
      "Election results\n",
      "---------------\n",
      "Total Votes: 369711\n",
      "---------------\n",
      "Charles Casper Stockham:  %23.049 (85213) \n",
      "Diana DeGette:  %73.812 (272892) \n",
      "Raymon Anthony Doane:  %3.139 (11606) \n",
      "--------------\n",
      "Winner: Diana DeGette\n",
      "--------------\n"
     ]
    }
   ],
   "source": [
    "# Import and read into election_csv\n",
    "\n",
    "with open(election_csv) as csvfile:\n",
    "    election_reader = csv.reader(csvfile, delimiter = \",\")\n",
    "    \n",
    "\n",
    "# Use next(csv_reader, None) to skip the header row\n",
    "\n",
    "    next(election_reader, None)\n",
    "\n",
    "    print_results = print_election_results(election_reader)\n",
    "\n",
    "    for txt in print_results:\n",
    "        print(txt) \n",
    "\n",
    "\n",
    "output_path = os.path.join('Analysis', 'election_results.txt')\n",
    "\n",
    "with open(output_path, 'w') as file:\n",
    "\n",
    "    for txt in print_results:\n",
    "       \n",
    "        file.write(f\"{txt}\\n\")"
   ]
  }
 ],
 "metadata": {
  "kernelspec": {
   "display_name": "base",
   "language": "python",
   "name": "python3"
  },
  "language_info": {
   "codemirror_mode": {
    "name": "ipython",
    "version": 3
   },
   "file_extension": ".py",
   "mimetype": "text/x-python",
   "name": "python",
   "nbconvert_exporter": "python",
   "pygments_lexer": "ipython3",
   "version": "3.11.5"
  }
 },
 "nbformat": 4,
 "nbformat_minor": 2
}
