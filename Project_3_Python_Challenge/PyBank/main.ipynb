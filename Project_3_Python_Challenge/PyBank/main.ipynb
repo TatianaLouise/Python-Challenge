{
 "cells": [
  {
   "cell_type": "code",
   "execution_count": 9,
   "metadata": {},
   "outputs": [],
   "source": [
    "# Import os to create file paths across operating systems\n",
    "\n",
    "import os\n",
    "\n",
    "import csv\n",
    "\n",
    "\n",
    "\n"
   ]
  },
  {
   "cell_type": "code",
   "execution_count": 10,
   "metadata": {},
   "outputs": [
    {
     "data": {
      "text/plain": [
       "'Resources/budget_data.csv'"
      ]
     },
     "execution_count": 10,
     "metadata": {},
     "output_type": "execute_result"
    }
   ],
   "source": [
    "budget_csv = os.path.join(\"Resources\", \"budget_data.csv\")\n",
    "\n",
    "budget_csv"
   ]
  },
  {
   "cell_type": "code",
   "execution_count": 11,
   "metadata": {},
   "outputs": [],
   "source": [
    "# Import and read into the budget_csv\n",
    "\n",
    "with open(budget_csv) as csvfile:\n",
    "    budget_reader = csv.reader(csvfile, delimiter = \",\")\n",
    "\n",
    "# Use next(csv_reader, None) to skip the header row\n",
    "    budget_header = next(budget_reader, None)\n"
   ]
  },
  {
   "cell_type": "code",
   "execution_count": 12,
   "metadata": {},
   "outputs": [],
   "source": [
    "# Define the function and have it accept the 'budget_data' as its sole parameter\n",
    "# Assign values to variables\n",
    "\n",
    "def print_financials(budget_data):\n",
    "    months = []\n",
    "    total_months = 0\n",
    "    total_prof = 0\n",
    "    change_prof = []\n",
    "    change_val = 0\n",
    "    last_val = 0\n",
    "    first_row = True\n",
    "\n",
    "    for row in budget_data:\n",
    "    \n",
    "    #Save the value of months (row[0]) into a list for future reference\n",
    "\n",
    "        months.append(str(row[0]))\n",
    "\n",
    "    # Calculate the total number of months in the dataset\n",
    "        total_months += 1\n",
    "\n",
    "    # Calculate the net total amount of \"Profit/Losses\" over the entire period\n",
    "        total_prof += int(row[1])\n",
    "\n",
    "    #Calculate the changes in \"Profit/Losses\" over the entire period, and then the average of those changes\n",
    "        if first_row:\n",
    "          change_val = 0\n",
    "          first_row = False\n",
    "        else:\n",
    "          change_val = int(row[1]) - last_val\n",
    "        \n",
    "        change_prof.append(change_val)\n",
    "        last_val = int(row[1])\n",
    "    \n",
    "    total_change = sum(change_prof)\n",
    "\n",
    "    # Average change is the total change / (total months -1) \n",
    "    # (the number of times the value changed -- subtract 1 because even though there are 86 months there has only been 85 changes)\n",
    "    \n",
    "    avg_change = round(total_change/(total_months-1), 2)\n",
    "\n",
    "    # Calculate the greatest increase in profits over the entire period\n",
    "    # This is the maximum amount of change between two months (the max number in change_prof list)\n",
    "\n",
    "    greatest_inc_prof = max(change_prof)\n",
    "    \n",
    "    # Find the date of the greatest increase in profits over the entire period\n",
    "             \n",
    "    loc_greatest_inc_date = change_prof.index(greatest_inc_prof)\n",
    "         \n",
    "    # Index of the month in the data sheet is loc_greatest_inc_date \n",
    "    greatest_inc_date = months[int(loc_greatest_inc_date)]\n",
    "\n",
    "    # Calculate the greatest decrease in profits (date and amount) over the entire period\n",
    "\n",
    "    greatest_dec_prof = min(change_prof)\n",
    "    \n",
    "    loc_greatest_dec_date = change_prof.index(greatest_dec_prof)\n",
    "\n",
    "    greatest_dec_date = months[int(loc_greatest_dec_date)]\n",
    "\n",
    "\n",
    "\n",
    "          \n",
    "    print(\"Financial Analysis\")\n",
    "\n",
    "    print(\"------------------------\")\n",
    "\n",
    "    print(\"Total Months: \", total_months)\n",
    "\n",
    "    print(\"Total Profit/Loss: $\", total_prof)\n",
    "\n",
    "    print(\"Average Change: \", avg_change)\n",
    "\n",
    "    print(\"Greatest increase in profits: \", greatest_inc_date, \" ($\" , greatest_inc_prof, \")\")\n",
    "\n",
    "    print(\"Greatest decrease in profits: \", greatest_dec_date, \" ($\" , greatest_dec_prof, \")\")\n",
    "\n",
    "    \n",
    "\n",
    "    "
   ]
  },
  {
   "cell_type": "code",
   "execution_count": 13,
   "metadata": {},
   "outputs": [
    {
     "name": "stdout",
     "output_type": "stream",
     "text": [
      "Financial Analysis\n",
      "------------------------\n",
      "Total Months:  86\n",
      "Total Profit/Loss: $ 22564198\n",
      "Average Change:  -8311.11\n",
      "Greatest increase in profits:  Aug-16   ($ 1862002 )\n",
      "Greatest decrease in profits:  Feb-14   ($ -1825558 )\n"
     ]
    }
   ],
   "source": [
    "# Import and read into the budget_csv\n",
    "\n",
    "with open(budget_csv) as csvfile:\n",
    "    budget_reader = csv.reader(csvfile, delimiter = \",\")\n",
    "\n",
    "# Use next(csv_reader, None) to skip the header row\n",
    "    budget_header = next(budget_reader, None)\n",
    "\n",
    "    print_financials(budget_reader)\n",
    "    \n",
    "\n",
    "\n",
    "\n"
   ]
  },
  {
   "cell_type": "code",
   "execution_count": 20,
   "metadata": {},
   "outputs": [],
   "source": [
    "#Export a text file named analysis_results.txt with the results\n",
    "\n",
    "output_path = os.path.join('Analysis', 'analysis_results.txt')\n",
    "\n",
    "with open(output_path, 'w') as file:\n",
    "\n",
    "    csvwriter = csv.writer(file, delimiter=':')\n",
    "    \n",
    "    csvwriter.writerow(['Financial Analysis'])\n",
    "    csvwriter.writerow(['-----------------'])\n",
    "    csvwriter.writerow(['Total Months: 86'])\n",
    "    csvwriter.writerow(['Total Profits: $ 22564198'])\n",
    "    csvwriter.writerow(['Average Change: $ -8311.11'])\n",
    "    csvwriter.writerow(['Greatest Increase in Profits: Aug-16($1862002)'])\n",
    "    csvwriter.writerow(['Greatest Decrease in Profits: Feb-14($-1825558)'])"
   ]
  }
 ],
 "metadata": {
  "kernelspec": {
   "display_name": "base",
   "language": "python",
   "name": "python3"
  },
  "language_info": {
   "codemirror_mode": {
    "name": "ipython",
    "version": 3
   },
   "file_extension": ".py",
   "mimetype": "text/x-python",
   "name": "python",
   "nbconvert_exporter": "python",
   "pygments_lexer": "ipython3",
   "version": "3.11.5"
  }
 },
 "nbformat": 4,
 "nbformat_minor": 2
}
